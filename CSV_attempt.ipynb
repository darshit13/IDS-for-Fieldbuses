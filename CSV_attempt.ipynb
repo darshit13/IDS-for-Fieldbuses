{
 "cells": [
  {
   "cell_type": "code",
   "execution_count": 47,
   "metadata": {},
   "outputs": [],
   "source": [
    "import csv\n",
    "fields = []\n",
    "with open('CSV_Files/main_file.csv', 'r') as file:\n",
    "    read = csv.DictReader(file, delimiter = ';')\n",
    "    fields=next(read)\n",
    "    \n",
    "    '''for r in read:\n",
    "        print(r['source_addr'])'''\n",
    "    \n",
    "    \n",
    "    '''for r in read:\n",
    "        if r['source_addr'] == \"3.6.25\" or r['destination_addr'] == \"3.6.28\":\n",
    "            write.writerow(r)'''\n",
    "        \n",
    "    \n",
    "    with open('new_file.csv', 'w') as writefile:\n",
    "        write = csv.DictWriter(writefile, fieldnames = fields, delimiter=';')\n",
    "        write.writeheader()\n",
    "        \n",
    "        for r in read:\n",
    "            \n",
    "            if ((r['source_addr'] == \"3.6.14\") and (r['destination_addr'] == \"1/1/26\" or r['destination_addr'] == \"1/1/27\" or r['destination_addr'] == \"1/1/28\")):\n",
    "                write.writerow(r)\n",
    "                \n",
    "            if ((r['source_addr'] == \"3.6.5\") and (r['destination_addr'] == \"1/1/60\" or r['destination_addr'] == \"1/1/61\" or r['destination_addr'] == \"0/3/0\")):\n",
    "                write.writerow(r)\n",
    "                \n",
    "            if ((r['source_addr'] == \"3.6.4\" or r['source_addr'] == \"3.6.6\") and (r['destination_addr'] == \"0/3/0\")):\n",
    "                write.writerow(r)"
   ]
  },
  {
   "cell_type": "code",
   "execution_count": 45,
   "metadata": {},
   "outputs": [],
   "source": [
    "            "
   ]
  },
  {
   "cell_type": "code",
   "execution_count": null,
   "metadata": {},
   "outputs": [],
   "source": []
  }
 ],
 "metadata": {
  "kernelspec": {
   "display_name": "Python 3",
   "language": "python",
   "name": "python3"
  },
  "language_info": {
   "codemirror_mode": {
    "name": "ipython",
    "version": 3
   },
   "file_extension": ".py",
   "mimetype": "text/x-python",
   "name": "python",
   "nbconvert_exporter": "python",
   "pygments_lexer": "ipython3",
   "version": "3.6.8"
  }
 },
 "nbformat": 4,
 "nbformat_minor": 2
}
