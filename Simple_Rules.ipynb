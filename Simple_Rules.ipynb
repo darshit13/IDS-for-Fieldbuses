{
 "cells": [
  {
   "cell_type": "code",
   "execution_count": 3,
   "metadata": {},
   "outputs": [
    {
     "name": "stdout",
     "output_type": "stream",
     "text": [
      "Unknown Source Address \t \t 2016-07-10 16:39:25.000000 \t \t 3.6.7\n",
      "Unknown Destin Address \t \t 2016-07-10 16:39:29.000000 \t \t 0/15/0\n",
      "Unknown Source Address \t \t 2016-07-10 17:02:29.000000 \t \t 3.6.19\n",
      "Unknown Destin Address \t \t 2016-07-10 17:02:29.000000 \t \t 1/3/0\n"
     ]
    }
   ],
   "source": [
    "import csv\n",
    "\n",
    "#Could change the file name here depending on which traffic log file we want to test\n",
    "with open('CSV_Files/added_traffic.csv', 'r') as in_file:\n",
    "    file = csv.DictReader(in_file, delimiter=';')\n",
    "    \n",
    "    flag = False\n",
    "    '''for f in file:\n",
    "        print(f['sequence_number'],\"\\t\", f['timestamp'], f['source_addr'], f['destination_addr'])'''\n",
    "    \n",
    "    #The Rules script : The first implementation being done here only specifying common rules for Source and Destination Addresses\n",
    "    #The further rules could be applied using similar loops. \n",
    "    for f in file:\n",
    "        \n",
    "        if not ((f['source_addr'] == \"3.6.4\") or (f['source_addr'] == \"3.6.5\") or (f['source_addr'] == \"3.6.6\") or (f['source_addr'] == \"3.6.14\")):\n",
    "            print (\"Unknown Source Address\", \"\\t \\t\", f['timestamp'], \"\\t \\t\", f['source_addr'])\n",
    "            flag = True\n",
    "            \n",
    "        if not ((f['destination_addr'] == \"1/1/26\") or (f['destination_addr'] == \"1/1/27\") or (f['destination_addr'] == \"1/1/28\") or (f['destination_addr'] == \"1/1/60\") or (f['destination_addr'] == \"1/1/61\") or (f['destination_addr'] == \"0/3/0\")):\n",
    "            print(\"Unknown Destin Address\", \"\\t \\t\", f['timestamp'], \"\\t \\t\", f['destination_addr'])\n",
    "            flag = True\n",
    "    \n",
    "    if flag == False:\n",
    "        print (\"Alles Ok! :-)\")"
   ]
  },
  {
   "cell_type": "code",
   "execution_count": null,
   "metadata": {},
   "outputs": [],
   "source": []
  }
 ],
 "metadata": {
  "kernelspec": {
   "display_name": "Python 3",
   "language": "python",
   "name": "python3"
  },
  "language_info": {
   "codemirror_mode": {
    "name": "ipython",
    "version": 3
   },
   "file_extension": ".py",
   "mimetype": "text/x-python",
   "name": "python",
   "nbconvert_exporter": "python",
   "pygments_lexer": "ipython3",
   "version": "3.6.8"
  }
 },
 "nbformat": 4,
 "nbformat_minor": 2
}
