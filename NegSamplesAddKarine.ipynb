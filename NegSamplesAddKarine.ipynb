{
 "cells": [
  {
   "cell_type": "code",
   "execution_count": 1,
   "metadata": {},
   "outputs": [
    {
     "name": "stdout",
     "output_type": "stream",
     "text": [
      "2/2/165\n",
      "2/2/132\n",
      "2/2/169\n",
      "2/2/140\n",
      "2/2/154\n",
      "2/2/144\n",
      "2/2/157\n",
      "2/2/178\n",
      "2/2/140\n",
      "2/2/165\n"
     ]
    }
   ],
   "source": [
    "import csv\n",
    "c = 0\n",
    "fields = []\n",
    "neg_sam = []\n",
    "\n",
    "with open('CSV_Files/main_file.csv', 'r') as ff:\n",
    "    bahar = csv.DictReader(ff, delimiter = ';')\n",
    "    fields = next(bahar)\n",
    "    \n",
    "    for i in bahar:\n",
    "        if int(i['sequence_number']) < 3001:\n",
    "            neg_sam.append(i)\n",
    "        \n",
    "    for i in range(10):\n",
    "        print(neg_sam[i]['destination_addr'])\n",
    "        \n",
    "ff.close()"
   ]
  },
  {
   "cell_type": "code",
   "execution_count": 6,
   "metadata": {},
   "outputs": [
    {
     "name": "stdout",
     "output_type": "stream",
     "text": [
      "3.4.17 \t 1/1/61\n",
      "3.4.16 \t 1/1/60\n",
      "3.4.24 \t 1/1/26\n",
      "3.4.17 \t 1/1/26\n",
      "3.4.16 \t 1/1/28\n",
      "3.4.24 \t 1/1/28\n",
      "3.4.17 \t 1/1/61\n",
      "3.4.16 \t 1/1/60\n",
      "3.4.24 \t 1/1/27\n",
      "3.4.17 \t 1/1/26\n",
      "3.4.16 \t 1/1/26\n",
      "3.4.24 \t 1/1/60\n",
      "3.4.17 \t 1/1/27\n",
      "3.4.16 \t 1/1/61\n",
      "3.4.24 \t 1/1/28\n",
      "3.4.17 \t 1/1/28\n",
      "3.4.16 \t 1/1/60\n",
      "3.4.24 \t 1/1/27\n",
      "3.4.17 \t 1/1/28\n",
      "3.4.16 \t 1/1/28\n",
      "3.4.24 \t 1/1/28\n",
      "3.4.17 \t 1/1/61\n",
      "3.4.16 \t 1/1/27\n",
      "3.4.24 \t 1/1/26\n"
     ]
    }
   ],
   "source": [
    "import random\n",
    "dest_addr = ['1/1/26', '1/1/27', '1/1/28', '1/1/60', '1/1/61']\n",
    "\n",
    "for i in range(len(neg_sam)):\n",
    "    \n",
    "    if i%3 == 0:\n",
    "        neg_sam[i]['source_addr'] = '3.4.17'\n",
    "    if i%3 == 1:\n",
    "        neg_sam[i]['source_addr'] = '3.4.16'\n",
    "    if i%3 == 2:\n",
    "        neg_sam[i]['source_addr'] = '3.4.24'\n",
    "    \n",
    "    neg_sam[i]['destination_addr'] = dest_addr[random.randint(0,4)]\n",
    "    \n",
    "for i in range(24):\n",
    "    print(neg_sam[i]['source_addr'], \"\\t\", neg_sam[i]['destination_addr'])\n",
    "               "
   ]
  },
  {
   "cell_type": "code",
   "execution_count": 23,
   "metadata": {},
   "outputs": [
    {
     "name": "stdout",
     "output_type": "stream",
     "text": [
      "3462\n",
      "is it writing though?\n"
     ]
    }
   ],
   "source": [
    "temp = []\n",
    "with open('CSV_Files/pre_training340.csv', 'r') as file:\n",
    "    read = csv.DictReader(file, delimiter = ',')\n",
    "    fields = next(read)\n",
    "    c = 0\n",
    "    for r in read:\n",
    "        c += 1\n",
    "        temp.append(r)\n",
    "        if r['destination_addr'] == \"0/3/0\" :\n",
    "            print(r)\n",
    "    print(c)\n",
    "    \n",
    "    with open('CSV_Files/training340.csv', 'w') as wr_file:\n",
    "        wr = csv.DictWriter(wr_file, fieldnames = fields, delimiter = ',')\n",
    "        wr.writeheader()\n",
    "        print('is it writing though?')\n",
    "        \n",
    "        for i in range(len(temp)):\n",
    "            wr.writerow(temp[i])\n",
    "            \n",
    "        for i in neg_sam:\n",
    "            wr.writerow(i)\n",
    "        \n",
    "\n",
    "    wr_file.close()\n",
    "file.close()    "
   ]
  },
  {
   "cell_type": "code",
   "execution_count": 24,
   "metadata": {},
   "outputs": [
    {
     "name": "stdout",
     "output_type": "stream",
     "text": [
      "6460\n"
     ]
    }
   ],
   "source": [
    "with open('CSV_Files/training340.csv', 'r') as fff:\n",
    "    test = csv.DictReader(fff, delimiter = ',')\n",
    "    fields = next(test)\n",
    "    cc = 0\n",
    "    for i in test:\n",
    "        cc+=1\n",
    "        \n",
    "    print(cc)\n",
    "fff.close()"
   ]
  },
  {
   "cell_type": "code",
   "execution_count": 26,
   "metadata": {},
   "outputs": [
    {
     "name": "stdout",
     "output_type": "stream",
     "text": [
      "32200\n"
     ]
    }
   ],
   "source": [
    "temp = []\n",
    "with open('CSV_Files/pre_training360.csv', 'r') as pf:\n",
    "    pff = csv.DictReader(pf, delimiter = ';')\n",
    "    fields = next(pff)\n",
    "    cc = 0\n",
    "    for i in pff:\n",
    "        cc+=1\n",
    "        temp.append(i)\n",
    "    print(cc)\n",
    "pf.close()"
   ]
  },
  {
   "cell_type": "code",
   "execution_count": 39,
   "metadata": {},
   "outputs": [
    {
     "name": "stdout",
     "output_type": "stream",
     "text": [
      "3.4.17 \t 1/1/27\n",
      "3.4.16 \t 1/1/27\n",
      "3.4.17 \t 1/1/28\n",
      "3.4.17 \t 1/1/26\n",
      "3.4.17 \t 1/1/27\n",
      "3.4.24 \t 1/1/28\n",
      "3.4.24 \t 0/3/0\n",
      "3.4.16 \t 1/1/28\n",
      "3.4.16 \t 1/1/27\n",
      "3.4.24 \t 1/1/28\n",
      "3.4.17 \t 1/1/60\n",
      "3.4.24 \t 1/1/28\n",
      "3.4.17 \t 1/1/61\n",
      "3.4.17 \t 0/3/0\n",
      "3.4.17 \t 1/1/28\n",
      "3.4.24 \t 1/1/28\n",
      "3.4.16 \t 1/1/26\n",
      "3.4.16 \t 1/1/28\n",
      "3.4.24 \t 1/1/27\n",
      "3.4.16 \t 0/3/0\n"
     ]
    }
   ],
   "source": [
    "neg_sam1 = []\n",
    "src_list = ['3.4.16', '3.4.17', '3.4.24']\n",
    "des_list = ['0/3/0', '1/1/26', '1/1/27', '1/1/28', '1/1/60', '1/1/61']\n",
    "\n",
    "with open('CSV_Files/main_file.csv', 'r') as skc:\n",
    "    askc = csv.DictReader(skc, delimiter = ';')\n",
    "    fields = next(askc)\n",
    "    \n",
    "    for i in askc:\n",
    "        if int(i['sequence_number']) <= 30001:\n",
    "            neg_sam1.append(i)\n",
    "            "
   ]
  },
  {
   "cell_type": "code",
   "execution_count": 43,
   "metadata": {},
   "outputs": [
    {
     "name": "stdout",
     "output_type": "stream",
     "text": [
      "3.4.17 \t 0/3/0\n",
      "3.4.24 \t 1/1/28\n",
      "3.4.24 \t 1/1/28\n",
      "3.4.24 \t 1/1/27\n",
      "3.4.24 \t 1/1/27\n",
      "3.4.17 \t 0/3/0\n",
      "3.4.16 \t 1/1/61\n",
      "3.4.17 \t 1/1/61\n",
      "3.4.16 \t 1/1/27\n",
      "3.4.16 \t 1/1/27\n",
      "3.4.16 \t 1/1/60\n",
      "3.4.17 \t 1/1/60\n",
      "3.4.17 \t 1/1/27\n",
      "3.4.16 \t 1/1/60\n",
      "3.4.16 \t 1/1/60\n",
      "3.4.16 \t 0/3/0\n",
      "3.4.24 \t 1/1/27\n",
      "3.4.16 \t 1/1/28\n",
      "3.4.17 \t 1/1/28\n",
      "3.4.24 \t 1/1/28\n",
      "30000\n"
     ]
    }
   ],
   "source": [
    "for k in range(len(neg_sam1)):\n",
    "    neg_sam1[k]['source_addr'] = src_list[random.randint(0,2)]\n",
    "    neg_sam1[k]['destination_addr'] = des_list[random.randint(0,5)]\n",
    "        \n",
    "for j in range(10000, 10020):\n",
    "    print(neg_sam1[j]['source_addr'], \"\\t\", neg_sam1[j]['destination_addr'])\n",
    "    \n",
    "print(len(neg_sam1))"
   ]
  },
  {
   "cell_type": "code",
   "execution_count": 45,
   "metadata": {},
   "outputs": [],
   "source": [
    "with open('CSV_Files/training360.csv', 'w') as tah:\n",
    "    cs = csv.DictWriter(tah, fieldnames = fields, delimiter = ';')\n",
    "    cs.writeheader()\n",
    "    \n",
    "    for i in temp:\n",
    "        cs.writerow(i)\n",
    "        \n",
    "    for j in neg_sam1:\n",
    "        cs.writerow(j)\n",
    "tah.close()"
   ]
  },
  {
   "cell_type": "code",
   "execution_count": 46,
   "metadata": {},
   "outputs": [
    {
     "name": "stdout",
     "output_type": "stream",
     "text": [
      "62200\n"
     ]
    }
   ],
   "source": [
    "with open('CSV_Files/training360.csv', 'r') as tah:\n",
    "    cs = csv.DictReader(tah, fieldnames = fields, delimiter = ';')\n",
    "    fields = next(cs)\n",
    "    \n",
    "    coo = 0\n",
    "    for i in cs:\n",
    "        coo += 1\n",
    "    print (coo)\n",
    "tah.close()"
   ]
  },
  {
   "cell_type": "code",
   "execution_count": null,
   "metadata": {},
   "outputs": [],
   "source": []
  }
 ],
 "metadata": {
  "kernelspec": {
   "display_name": "Python 3",
   "language": "python",
   "name": "python3"
  },
  "language_info": {
   "codemirror_mode": {
    "name": "ipython",
    "version": 3
   },
   "file_extension": ".py",
   "mimetype": "text/x-python",
   "name": "python",
   "nbconvert_exporter": "python",
   "pygments_lexer": "ipython3",
   "version": "3.6.8"
  }
 },
 "nbformat": 4,
 "nbformat_minor": 2
}
