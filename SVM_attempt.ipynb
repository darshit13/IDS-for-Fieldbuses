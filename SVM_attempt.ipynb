{
 "cells": [
  {
   "cell_type": "code",
   "execution_count": 2,
   "metadata": {},
   "outputs": [],
   "source": [
    "import csv\n",
    "import numpy as np\n",
    "from sklearn.preprocessing import LabelBinarizer\n",
    "\n",
    "src = []\n",
    "dest = []\n",
    "\n",
    "with open('CSV_Files/new_file.csv', 'r') as in_file:\n",
    "    file = csv.DictReader(in_file, delimiter = ';')\n",
    "    \n",
    "    for f in file:\n",
    "        src.append(f['source_addr'])\n",
    "        dest.append(f['destination_addr'])\n",
    "     \n",
    "    src_ = np.array(src)\n",
    "    dest_ = np.array(dest)\n",
    "    \n",
    "    one_hot_src = LabelBinarizer()\n",
    "    one_hot_src.fit_transform(src_)\n",
    "    \n",
    "    one_hot_dest = LabelBinarizer()\n",
    "    one_hot_dest.fit_transform(dest_)"
   ]
  },
  {
   "cell_type": "code",
   "execution_count": 3,
   "metadata": {},
   "outputs": [
    {
     "data": {
      "text/plain": [
       "array(['3.6.14', '3.6.4', '3.6.5', '3.6.6'], dtype='<U6')"
      ]
     },
     "execution_count": 3,
     "metadata": {},
     "output_type": "execute_result"
    }
   ],
   "source": [
    "    one_hot_src.classes_"
   ]
  },
  {
   "cell_type": "code",
   "execution_count": 4,
   "metadata": {},
   "outputs": [
    {
     "data": {
      "text/plain": [
       "array(['0/3/0', '1/1/26', '1/1/27', '1/1/28', '1/1/60', '1/1/61'],\n",
       "      dtype='<U6')"
      ]
     },
     "execution_count": 4,
     "metadata": {},
     "output_type": "execute_result"
    }
   ],
   "source": [
    "    one_hot_dest.classes_"
   ]
  },
  {
   "cell_type": "code",
   "execution_count": null,
   "metadata": {},
   "outputs": [],
   "source": []
  }
 ],
 "metadata": {
  "kernelspec": {
   "display_name": "Python 3",
   "language": "python",
   "name": "python3"
  },
  "language_info": {
   "codemirror_mode": {
    "name": "ipython",
    "version": 3
   },
   "file_extension": ".py",
   "mimetype": "text/x-python",
   "name": "python",
   "nbconvert_exporter": "python",
   "pygments_lexer": "ipython3",
   "version": "3.6.8"
  }
 },
 "nbformat": 4,
 "nbformat_minor": 2
}
