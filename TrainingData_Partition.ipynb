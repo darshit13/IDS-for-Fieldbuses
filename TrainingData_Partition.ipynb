{
 "cells": [
  {
   "cell_type": "code",
   "execution_count": 27,
   "metadata": {},
   "outputs": [
    {
     "name": "stdout",
     "output_type": "stream",
     "text": [
      "6324 602\n",
      "C60 walu patyu\n",
      "C26 walu patyu\n",
      "030 walu patyu\n"
     ]
    }
   ],
   "source": [
    "import csv\n",
    "fields = []\n",
    "lc60 = []\n",
    "lc26 = []\n",
    "l030 = []\n",
    "with open('CSV_Files/trainingcreation_file.csv', 'r') as file:\n",
    "    read = csv.DictReader(file, delimiter = ';')\n",
    "    fields = next(read)\n",
    "    c26 = 0\n",
    "    c60 = 0\n",
    "    \n",
    "    for r in read:\n",
    "        \n",
    "        if(r['destination_addr'] == '1/1/60' or r['destination_addr'] == '1/1/61'):\n",
    "            c60 += 1\n",
    "            lc60.append(r)\n",
    "        if (r['destination_addr'] == '1/1/26' or r['destination_addr'] == '1/1/27' or r['destination_addr'] == '1/1/28'):\n",
    "            c26 += 1\n",
    "            lc26.append(r)\n",
    "        if(r['destination_addr'] == '0/3/0'):\n",
    "            l030.append(r)\n",
    "            \n",
    "    print(c60, c26)\n",
    "    \n",
    "    with open('CSV_Files/pre_training360.csv', 'w') as wr_file:\n",
    "        wr0 = csv.DictWriter(wr_file, fieldnames = fields, delimiter = ';')\n",
    "        wr0.writeheader()\n",
    "        \n",
    "        for i in range(c60):\n",
    "            if i % 2 == 0:\n",
    "                wr0.writerow(lc60[i])\n",
    "        \n",
    "        print('C60 walu patyu')\n",
    "        for j in range(c26):\n",
    "            if j % 2 == 0:\n",
    "                wr0.writerow(lc26[j])\n",
    "        print('C26 walu patyu')\n",
    "        \n",
    "        for k in l030:\n",
    "            wr0.writerow(k)\n",
    "        print('030 walu patyu')\n",
    "    "
   ]
  },
  {
   "cell_type": "code",
   "execution_count": 37,
   "metadata": {},
   "outputs": [
    {
     "name": "stdout",
     "output_type": "stream",
     "text": [
      "C60 walu patyu\n",
      "C26 walu patyu\n"
     ]
    }
   ],
   "source": [
    "    with open('CSV_Files/pre_training340.csv', 'w') as wri_file:\n",
    "        wr1 = csv.DictWriter(wri_file, fieldnames = fields, delimiter = ';')\n",
    "        wr1.writeheader()\n",
    "        \n",
    "        for i in range(c60):\n",
    "            if i%2 != 0:\n",
    "                wr1.writerow(lc60[i])\n",
    "        print('C60 walu patyu')\n",
    "        \n",
    "        for j in range(c26):\n",
    "            if j%2 != 0:\n",
    "                wr1.writerow(lc26[j])\n",
    "        print('C26 walu patyu')\n",
    "        "
   ]
  },
  {
   "cell_type": "code",
   "execution_count": 38,
   "metadata": {},
   "outputs": [],
   "source": [
    "    wr_file.close()\n",
    "    wri_file.close()"
   ]
  },
  {
   "cell_type": "code",
   "execution_count": null,
   "metadata": {},
   "outputs": [],
   "source": []
  }
 ],
 "metadata": {
  "kernelspec": {
   "display_name": "Python 3",
   "language": "python",
   "name": "python3"
  },
  "language_info": {
   "codemirror_mode": {
    "name": "ipython",
    "version": 3
   },
   "file_extension": ".py",
   "mimetype": "text/x-python",
   "name": "python",
   "nbconvert_exporter": "python",
   "pygments_lexer": "ipython3",
   "version": "3.6.8"
  }
 },
 "nbformat": 4,
 "nbformat_minor": 2
}
