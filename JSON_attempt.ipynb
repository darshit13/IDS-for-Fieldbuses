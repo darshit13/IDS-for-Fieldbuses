{
 "cells": [
  {
   "cell_type": "code",
   "execution_count": 2,
   "metadata": {},
   "outputs": [],
   "source": [
    "import json\n",
    "with open(\"attack_free_sequence_with_seconds.json\", \"r\") as in_file:\n",
    "    data = json.load(in_file)\n"
   ]
  },
  {
   "cell_type": "raw",
   "metadata": {},
   "source": [
    "## Since we have loaded the file, now we are going to extract the data according to the communication patterns and write them onto a different JSON file. "
   ]
  },
  {
   "cell_type": "code",
   "execution_count": 15,
   "metadata": {},
   "outputs": [],
   "source": [
    "\"\"\"wr_data = {}\n",
    "\n",
    "wr_data['sequence_nbr'] = []\n",
    "wr_data['timestamp'] = []\n",
    "wr_data['source_addr'] = []\n",
    "wr_data['destination_addr'] = []\n",
    "wr_data['apci'] = []\n",
    "wr_data['tpci'] = []\n",
    "wr_data['priority'] = []\n",
    "wr_data['repeated'] = []\n",
    "wr_data['hop_count'] = []\n",
    "wr_data['apdu'] = []\n",
    "wr_data['payload_length'] = []\n",
    "wr_data['cemi'] = []\n",
    "wr_data['payload_data'] = []\n",
    "wr_data['is_manipulated'] = []\n",
    "wr_data['attack_type_id'] = []\n",
    "\n",
    "\n",
    "wr_data['sequence_nbr'].append(133)\n",
    "wr_data['timestamp'].append(\"2016-09-28 05:04:48\")\n",
    "wr_data['source_addr'].append(\"3.6.16\")\n",
    "wr_data['destination_addr'].append(\"1/2/1\")\n",
    "wr_data['apci'].append(\"A_GROUP_VALUE_WRITE\")\n",
    "wr_data['tpci'].append(\"UNNUMBERED_DATA_PACKET\")\n",
    "wr_data['priority'].append(\"LOW\")\n",
    "wr_data['repeated'].append(0)\n",
    "wr_data['hop_count'].append(6)\n",
    "wr_data['apdu'].append(\"00800cb3\")\n",
    "wr_data['payload_length'].append(2)\n",
    "wr_data['cemi'].append(\"2900BCE0362712E40200800CB3\")\n",
    "wr_data['payload_data'].append(\"3521\")\n",
    "wr_data['is_manipulated'].append(0)\n",
    "wr_data['attack_type_id'].append(0)\n",
    "\"\"\"\n",
    "\n",
    "with open('wr_data.json', 'w') as outfile:\n",
    "    for i in data:\n",
    "        if(i['sequence_nbr'] < 101):\n",
    "            json.dump(i, outfile)\n",
    "            \n",
    "    \n",
    "\n",
    "\n"
   ]
  },
  {
   "cell_type": "code",
   "execution_count": null,
   "metadata": {},
   "outputs": [],
   "source": []
  }
 ],
 "metadata": {
  "kernelspec": {
   "display_name": "Python 3",
   "language": "python",
   "name": "python3"
  },
  "language_info": {
   "codemirror_mode": {
    "name": "ipython",
    "version": 3
   },
   "file_extension": ".py",
   "mimetype": "text/x-python",
   "name": "python",
   "nbconvert_exporter": "python",
   "pygments_lexer": "ipython3",
   "version": "3.7.2"
  }
 },
 "nbformat": 4,
 "nbformat_minor": 2
}
