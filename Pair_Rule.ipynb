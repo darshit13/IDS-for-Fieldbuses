{
 "cells": [
  {
   "cell_type": "code",
   "execution_count": 2,
   "metadata": {},
   "outputs": [
    {
     "name": "stdout",
     "output_type": "stream",
     "text": [
      "Alles Okay :-)\n"
     ]
    }
   ],
   "source": [
    "import csv\n",
    "\n",
    "with open('CSV_Files/new_file.csv', 'r') as in_file:\n",
    "    file = csv.DictReader(in_file, delimiter=';')\n",
    "    \n",
    "    flag = False\n",
    "    \n",
    "    for f in file:\n",
    "        \n",
    "        if not ((f['source_addr'] == '3.6.14' and (f['destination_addr'] == '1/1/26' or f['destination_addr'] == '1/1/27' or f['destination_addr'] == '1/1/28')) or \n",
    "               ((f['source_addr'] == '3.6.4' or f['source_addr'] == '3.6.6') and f['destination_addr'] == '0/3/0') or \n",
    "                (f['source_addr'] == '3.6.5' and (f['destination_addr'] == '0/3/0' or f['destination_addr'] == '1/1/60' or f['destination_addr'] == '1/1/61'))):\n",
    "            flag = True\n",
    "            print(\"Communication not allowed\", f['timestamp'], \"\\t\", f['source_addr'], \"\\t\", f['destination_addr'])\n",
    "            \n",
    "\n",
    "    if flag == False:\n",
    "        print(\"Alles Okay :-)\")"
   ]
  },
  {
   "cell_type": "code",
   "execution_count": null,
   "metadata": {},
   "outputs": [],
   "source": []
  }
 ],
 "metadata": {
  "kernelspec": {
   "display_name": "Python 3",
   "language": "python",
   "name": "python3"
  },
  "language_info": {
   "codemirror_mode": {
    "name": "ipython",
    "version": 3
   },
   "file_extension": ".py",
   "mimetype": "text/x-python",
   "name": "python",
   "nbconvert_exporter": "python",
   "pygments_lexer": "ipython3",
   "version": "3.6.8"
  }
 },
 "nbformat": 4,
 "nbformat_minor": 2
}
